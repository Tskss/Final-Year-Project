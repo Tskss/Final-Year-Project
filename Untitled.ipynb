{
 "cells": [
  {
   "cell_type": "code",
   "execution_count": 1,
   "id": "e99f1178",
   "metadata": {},
   "outputs": [],
   "source": [
    "from flask import Flask, render_template, request, redirect, url_for\n",
    "import sounddevice as sd\n",
    "import numpy as np\n",
    "import librosa\n",
    "from flask import Flask, render_template, request, redirect, url_for\n",
    "import sounddevice as sd\n",
    "import numpy as np\n",
    "from scipy.io.wavfile import write, read\n"
   ]
  },
  {
   "cell_type": "code",
   "execution_count": 3,
   "id": "ab1956af",
   "metadata": {},
   "outputs": [],
   "source": [
    "# Record voice\n",
    "fs = 48000  # Set to a supported sample rate\n",
    "duration = 5  # Recording duration in seconds\n",
    "recording = sd.rec(int(fs * duration), samplerate=fs, channels=1, dtype=np.int16)\n",
    "sd.wait()\n",
    "\n",
    "# Save the recording as a WAV file using scipy\n",
    "output_path = 'output2.wav'\n",
    "write(output_path, fs, recording)\n"
   ]
  },
  {
   "cell_type": "code",
   "execution_count": null,
   "id": "2a11e7ed",
   "metadata": {},
   "outputs": [],
   "source": []
  }
 ],
 "metadata": {
  "kernelspec": {
   "display_name": "agri",
   "language": "python",
   "name": "agri"
  },
  "language_info": {
   "codemirror_mode": {
    "name": "ipython",
    "version": 3
   },
   "file_extension": ".py",
   "mimetype": "text/x-python",
   "name": "python",
   "nbconvert_exporter": "python",
   "pygments_lexer": "ipython3",
   "version": "3.7.11"
  }
 },
 "nbformat": 4,
 "nbformat_minor": 5
}
