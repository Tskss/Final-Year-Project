{
 "cells": [
  {
   "cell_type": "code",
   "execution_count": 7,
   "id": "69d7a960",
   "metadata": {},
   "outputs": [
    {
     "name": "stdout",
     "output_type": "stream",
     "text": [
      "artificial_UV_exposure_skin_cancer\n",
      "Yes, exposure to artificial UV sources like tanning beds or sunlamps increases the risk of skin cancer, including melanoma.\n"
     ]
    }
   ],
   "source": [
    "import tensorflow as tf\n",
    "from tensorflow.keras.preprocessing.sequence import pad_sequences\n",
    "import json\n",
    "import pickle\n",
    "\n",
    "# Load the model\n",
    "model = tf.keras.models.load_model('chatbot_model.h5')\n",
    "\n",
    "# Load the tokenizer\n",
    "with open('tokenizer.pickle', 'rb') as handle:\n",
    "    tokenizer = pickle.load(handle)\n",
    "\n",
    "# Load the intents dataset\n",
    "with open('intents2.json') as file:\n",
    "    data = json.load(file)\n",
    "\n",
    "# Create tag mappings\n",
    "tag_to_index = {}\n",
    "index_to_tag = {}\n",
    "for i, intent in enumerate(data['intents']):\n",
    "    tag = intent['tag']\n",
    "    tag_to_index[tag] = i\n",
    "    index_to_tag[i] = tag\n",
    "\n",
    "# Function to get response\n",
    "def get_response(text):\n",
    "    # Tokenize and pad the input\n",
    "    input_sequence = tokenizer.texts_to_sequences([text])\n",
    "    input_padded = pad_sequences(input_sequence, maxlen=model.input_shape[1])\n",
    "\n",
    "    # Make a prediction\n",
    "    prediction = model.predict(input_padded)[0]\n",
    "\n",
    "    # Get the predicted tag\n",
    "    predicted_tag_index = tf.argmax(prediction).numpy()\n",
    "    predicted_tag = index_to_tag[predicted_tag_index]\n",
    "    print(predicted_tag)\n",
    "\n",
    "    # Get the response for the predicted tag\n",
    "    response = [intent['responses'][0] for intent in data['intents'] if intent['tag'] == predicted_tag][0]\n",
    "\n",
    "    return response\n",
    "\n",
    "# Example usage\n",
    "input_text = \"Can skin cancer be caused by exposure to artificial UV sources, such as tanning beds?\"\n",
    "output = get_response(input_text)\n",
    "print(output)\n"
   ]
  },
  {
   "cell_type": "code",
   "execution_count": null,
   "id": "9495d7ca",
   "metadata": {},
   "outputs": [],
   "source": []
  }
 ],
 "metadata": {
  "kernelspec": {
   "display_name": "leaf_disease",
   "language": "python",
   "name": "leaf_disease"
  },
  "language_info": {
   "codemirror_mode": {
    "name": "ipython",
    "version": 3
   },
   "file_extension": ".py",
   "mimetype": "text/x-python",
   "name": "python",
   "nbconvert_exporter": "python",
   "pygments_lexer": "ipython3",
   "version": "3.7.11"
  }
 },
 "nbformat": 4,
 "nbformat_minor": 5
}
