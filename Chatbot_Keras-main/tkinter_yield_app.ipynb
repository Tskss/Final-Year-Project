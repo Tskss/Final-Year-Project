{
 "cells": [
  {
   "cell_type": "code",
   "execution_count": 6,
   "id": "a7a3a6a8",
   "metadata": {},
   "outputs": [
    {
     "name": "stderr",
     "output_type": "stream",
     "text": [
      "Exception in Tkinter callback\n",
      "Traceback (most recent call last):\n",
      "  File \"/home/admin1/anaconda3/envs/agri/lib/python3.7/tkinter/__init__.py\", line 1705, in __call__\n",
      "    return self.func(*args)\n",
      "  File \"/tmp/ipykernel_19449/2091521977.py\", line 7, in submit_form\n",
      "    input_data = [state_entry.get(), district_entry.get(), season_type_combobox.get(),\n",
      "NameError: name 'state_entry' is not defined\n"
     ]
    }
   ],
   "source": [
    "import tkinter as tk\n",
    "from tkinter import ttk\n",
    "\n",
    "def yield_app():\n",
    "    def submit_form():\n",
    "        # Collect user inputs as a list\n",
    "        input_data = [state_entry.get(), district_entry.get(), season_type_combobox.get(),\n",
    "                      crop_entry.get(), area_entry.get(), soil_type_combobox.get(),\n",
    "                      temperature_entry.get(), wind_speed_entry.get(), precipitation_entry.get(),\n",
    "                      humidity_entry.get(), n_entry.get(), p_entry.get(), k_entry.get(),\n",
    "                      pressure_entry.get()]\n",
    "\n",
    "        # Save the inputs as a list (you can perform additional processing here if needed)\n",
    "        print(\"User inputs:\", input_data)\n",
    "\n",
    "        # Close the Tkinter app\n",
    "        root.destroy()\n",
    "\n",
    "    root = tk.Tk()\n",
    "    root.title(\"Yield Prediction App\")\n",
    "\n",
    "    labels = [\"State name\", \"District name\", \"Season Type\", \"Crop\", \"Area\",\n",
    "              \"Soil Type\", \"Temperature\", \"Wind Speed\", \"Precipitation\",\n",
    "              \"Humidity\", \"N\", \"P\", \"K\", \"Pressure\"]\n",
    "\n",
    "    # Create labels and entry widgets side by side\n",
    "    for i, label_text in enumerate(labels):\n",
    "        ttk.Label(root, text=label_text).grid(row=i, column=0, padx=10, pady=5, sticky=\"w\")\n",
    "        ttk.Entry(root, width=30).grid(row=i, column=1, padx=10, pady=5)\n",
    "\n",
    "    ttk.Button(root, text=\"Submit\", command=submit_form).grid(row=len(labels), columnspan=2, pady=20)\n",
    "\n",
    "    root.mainloop()\n",
    "\n",
    "# Call the yield_app function\n",
    "yield_app()\n"
   ]
  },
  {
   "cell_type": "code",
   "execution_count": 7,
   "id": "1331fb15",
   "metadata": {},
   "outputs": [
    {
     "name": "stdout",
     "output_type": "stream",
     "text": [
      "User inputs: ['', '', '', '', '', '', '', '', '', '', '', '', '', '']\n"
     ]
    }
   ],
   "source": [
    "import tkinter as tk\n",
    "from tkinter import ttk\n",
    "\n",
    "def yield_app():\n",
    "    def submit_form():\n",
    "        # Collect user inputs as a list\n",
    "        input_data = [state_entry.get(), district_entry.get(), season_type_combobox.get(),\n",
    "                      crop_entry.get(), area_entry.get(), soil_type_combobox.get(),\n",
    "                      temperature_entry.get(), wind_speed_entry.get(), precipitation_entry.get(),\n",
    "                      humidity_entry.get(), n_entry.get(), p_entry.get(), k_entry.get(),\n",
    "                      pressure_entry.get()]\n",
    "\n",
    "        # Save the inputs as a list (you can perform additional processing here if needed)\n",
    "        print(\"User inputs:\", input_data)\n",
    "\n",
    "        # Close the Tkinter app\n",
    "        root.destroy()\n",
    "\n",
    "    root = tk.Tk()\n",
    "    root.title(\"Yield Prediction App\")\n",
    "\n",
    "    labels = [\"State name\", \"District name\", \"Season Type\", \"Crop\", \"Area\",\n",
    "              \"Soil Type\", \"Temperature\", \"Wind Speed\", \"Precipitation\",\n",
    "              \"Humidity\", \"N\", \"P\", \"K\", \"Pressure\"]\n",
    "\n",
    "    # Declare variables with broader scope\n",
    "    state_entry = ttk.Entry(root, width=30)\n",
    "    district_entry = ttk.Entry(root, width=30)\n",
    "    season_type_combobox = ttk.Combobox(root, values=[\"Autumn\", \"Kharif\", \"Rabi\", \"Summer\", \"Whole Year\", \"Winter\"], width=27)\n",
    "    crop_entry = ttk.Entry(root, width=30)\n",
    "    area_entry = ttk.Entry(root, width=30)\n",
    "    soil_type_combobox = ttk.Combobox(root, values=[\"Chalky\", \"Clay\", \"Loamy\", \"Peaty\", \"Sandy\", \"Silt\", \"Silty\"], width=27)\n",
    "    temperature_entry = ttk.Entry(root, width=30)\n",
    "    wind_speed_entry = ttk.Entry(root, width=30)\n",
    "    precipitation_entry = ttk.Entry(root, width=30)\n",
    "    humidity_entry = ttk.Entry(root, width=30)\n",
    "    n_entry = ttk.Entry(root, width=30)\n",
    "    p_entry = ttk.Entry(root, width=30)\n",
    "    k_entry = ttk.Entry(root, width=30)\n",
    "    pressure_entry = ttk.Entry(root, width=30)\n",
    "\n",
    "    # Create labels and entry widgets side by side\n",
    "    for i, label_text in enumerate(labels):\n",
    "        ttk.Label(root, text=label_text).grid(row=i, column=0, padx=10, pady=5, sticky=\"w\")\n",
    "        ttk.Entry(root, width=30).grid(row=i, column=1, padx=10, pady=5)\n",
    "\n",
    "    ttk.Button(root, text=\"Submit\", command=submit_form).grid(row=len(labels), columnspan=2, pady=20)\n",
    "\n",
    "    root.mainloop()\n",
    "\n",
    "# Call the yield_app function\n",
    "yield_app()\n"
   ]
  },
  {
   "cell_type": "code",
   "execution_count": null,
   "id": "1be1372a",
   "metadata": {},
   "outputs": [],
   "source": []
  }
 ],
 "metadata": {
  "kernelspec": {
   "display_name": "agri",
   "language": "python",
   "name": "agri"
  },
  "language_info": {
   "codemirror_mode": {
    "name": "ipython",
    "version": 3
   },
   "file_extension": ".py",
   "mimetype": "text/x-python",
   "name": "python",
   "nbconvert_exporter": "python",
   "pygments_lexer": "ipython3",
   "version": "3.7.11"
  }
 },
 "nbformat": 4,
 "nbformat_minor": 5
}
